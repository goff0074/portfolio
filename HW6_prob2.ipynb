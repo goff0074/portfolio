{
 "cells": [
  {
   "cell_type": "code",
   "execution_count": 14,
   "id": "75b7ce6e-28db-4faa-a77c-c9e060c8a4f7",
   "metadata": {},
   "outputs": [
    {
     "name": "stdout",
     "output_type": "stream",
     "text": [
      "Learned policy (1 = up, 2 = down, 3 = right, 4 = left):\n",
      "[3, 3, 3, 3, 1, 3, 2, 2, 3, 3, 2, 2]\n",
      "[2, 3, 2, 3, 3, 2, 2, 3, 2, 2, 2, 2]\n",
      "[3, 3, 3, 3, 3, 3, 3, 3, 3, 3, 3, 2]\n",
      "[1, 1, 1, 1, 1, 1, 1, 1, 1, 1, 1, 1]\n"
     ]
    }
   ],
   "source": [
    "const start_pos = 37 #start position (bottom-left)\n",
    "const goal_pos = 48 #goal state (bottom-right)\n",
    "Q = zeros(48, 4) #intialize q values\n",
    "\n",
    "function nextstate(s, a)\n",
    "    rows, cols = 4, 12 #grid dims\n",
    "    row, col = div(s - 1, cols) + 1, (s - 1) % cols + 1  #converts our state to row,col\n",
    "\n",
    "    if a == 1  # Up\n",
    "        row = max(row - 1, 1)  #stay on the grid\n",
    "    elseif a == 2  # Down\n",
    "        row = min(row + 1, rows) #stay on the grid\n",
    "    elseif a == 3  # Right\n",
    "        col = min(col + 1, cols) #stay on the grid\n",
    "    elseif a == 4  # Left\n",
    "        col = max(col - 1, 1) #stay on the grid\n",
    "    end\n",
    "    if row == 4 && 2 <= col <= 11  #see if the agent falls of the cliff (4,2 to 4,11)\n",
    "        return start_pos  #go back to the start if he falls\n",
    "    end\n",
    "    return (row - 1) * cols + col #convert back into a state\n",
    "end\n",
    "\n",
    "function epsilon_greedy_policy(pos, Q)\n",
    "    if rand() < 0.1\n",
    "        return rand(1:NUM_ACTIONS)  #choose a random action\n",
    "    else\n",
    "        return argmax(Q[pos, :])  #choose a greedy action\n",
    "    end\n",
    "end\n",
    "\n",
    "function q_learning(episodes)\n",
    "    for episode in 1:episodes #loop over the episode number specified\n",
    "        pos = start_pos #set the position of the agent\n",
    "        while pos != goal_pos #loop while we are not at the end goal position\n",
    "            action = epsilon_greedy_policy(pos, Q) #select your action\n",
    "            next_state = nextstate(pos, action) #find your position based on your action\n",
    "            Q[pos, action] += 0.1 * (-1 + 0.9 * maximum(Q[next_state, :]) - Q[pos, action]) #update the q matrix\n",
    "            pos = next_state #update your position\n",
    "        end\n",
    "    end\n",
    "end\n",
    "\n",
    "q_learning(10000) #run the q learning with 10000 episodes\n",
    "println(\"Learned policy (1 = up, 2 = down, 3 = right, 4 = left):\") #print out a legend\n",
    "policy = [argmax(Q[s, :]) for s in 1:48] #find the best action for each position by taking the max q value at that index\n",
    "policy_grid = reshape(policy, (12, 4))' #reshape the grid to visualize (i transposed it because it was originally showing as a 12x4 grid)\n",
    "for row in 1:size(policy_grid, 1)\n",
    "    println(policy_grid[row, :]) #print out the optimal policy\n",
    "end"
   ]
  },
  {
   "cell_type": "markdown",
   "id": "5ad9ad24-9a5f-416b-82a3-92c96cbbb15b",
   "metadata": {},
   "source": [
    "As you can see above, our policy grid is\n",
    "[3, 3, 3, 3, 1, 3, 2, 2, 3, 3, 2, 2]\n",
    "[2, 3, 2, 3, 3, 2, 2, 3, 2, 2, 2, 2]\n",
    "[3, 3, 3, 3, 3, 3, 3, 3, 3, 3, 3, 2]\n",
    "[1, 1, 1, 1, 1, 1, 1, 1, 1, 1, 1, 1]\n",
    "The bottom left corner is where we start, and we want to get to the bottom right, avoiding a cliff that spans for the rest of the bottom row (column 2-11). It matches the policy in the book, as we move up, then right until we are unable to, and then down to reach the destination. the values in the first 2 rows are arbitrarily set at the beginning and do not involve our optimal path, so they will be random upon each generation of this problem."
   ]
  }
 ],
 "metadata": {
  "kernelspec": {
   "display_name": "Julia 1.11.1",
   "language": "julia",
   "name": "julia-1.11"
  },
  "language_info": {
   "file_extension": ".jl",
   "mimetype": "application/julia",
   "name": "julia",
   "version": "1.11.1"
  }
 },
 "nbformat": 4,
 "nbformat_minor": 5
}
