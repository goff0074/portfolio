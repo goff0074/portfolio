{
 "cells": [
  {
   "cell_type": "code",
   "execution_count": 1,
   "id": "783eb39a-44b2-4148-8835-853aeb9b0fe9",
   "metadata": {},
   "outputs": [],
   "source": [
    "using LinearAlgebra"
   ]
  },
  {
   "cell_type": "code",
   "execution_count": 2,
   "id": "93fe9ea1-2c9c-440b-9d4d-d77ddec9338e",
   "metadata": {},
   "outputs": [
    {
     "data": {
      "text/plain": [
       "barrier (generic function with 1 method)"
      ]
     },
     "execution_count": 2,
     "metadata": {},
     "output_type": "execute_result"
    }
   ],
   "source": [
    "function barrier(P, ∇P, x, c; μ=1)\n",
    "    tol = 1e-6  # stopping tolerance for μ\n",
    "    k = 1\n",
    "    while μ > tol && k <= 100\n",
    "        x = steepest_descent_barrier(P, ∇P, x, μ, c) #minimize a log barrier funct. using steepest descent\n",
    "        μ *= 0.5 #reduce barrier param\n",
    "        k += 1\n",
    "    end\n",
    "\n",
    "    return x, μ\n",
    "end"
   ]
  },
  {
   "cell_type": "code",
   "execution_count": 3,
   "id": "ef891e80-7e8d-49b3-8c86-c55badbe4184",
   "metadata": {},
   "outputs": [
    {
     "data": {
      "text/plain": [
       "backtracking_line_search_barrier (generic function with 1 method)"
      ]
     },
     "execution_count": 3,
     "metadata": {},
     "output_type": "execute_result"
    }
   ],
   "source": [
    "function backtracking_line_search_barrier(f, ∇f, x, μ, c, p)\n",
    "    α = .5     # initial step length\n",
    "    rho = 0.75\n",
    "    ctol = 1e-4\n",
    "\n",
    "    function stay_feasible(α)\n",
    "        while c(x + α*p) < 0\n",
    "            α *= rho\n",
    "        end\n",
    "        return α\n",
    "    end\n",
    "    α = stay_feasible(α)\n",
    "\n",
    "    while f(x + α*p, μ) > f(x, μ) + ctol*α*transpose(∇f(x, μ))*p \n",
    "        α *= rho\n",
    "        α = stay_feasible(α)\n",
    "    end\n",
    "    return α\n",
    "end"
   ]
  },
  {
   "cell_type": "code",
   "execution_count": 4,
   "id": "f1f95285-028a-48e4-87b0-21d91dcdf3bb",
   "metadata": {},
   "outputs": [
    {
     "data": {
      "text/plain": [
       "steepest_descent_barrier (generic function with 1 method)"
      ]
     },
     "execution_count": 4,
     "metadata": {},
     "output_type": "execute_result"
    }
   ],
   "source": [
    "function steepest_descent_barrier(f, ∇f, x, μ, c; ϵ=1e-3, k=1, c1=1e-4)\n",
    "    i = 1\n",
    "    while norm(∇f(x, μ)) > ϵ && i <= 1000\n",
    "        p = -∇f(x, μ)  #steep descent direction calculation\n",
    "        α = backtracking_line_search_barrier(f, ∇f, x, μ, c, p) #use backtracking to update step size and feasibility\n",
    "        x = x + α * p #iterate update\n",
    "        if i % 50 == 0 #print progress\n",
    "            println(\"Iteration \", i, \": x = \", x)\n",
    "        end\n",
    "\n",
    "        i += 1 #update iteration #\n",
    "    end\n",
    "\n",
    "    return x\n",
    "end"
   ]
  },
  {
   "cell_type": "code",
   "execution_count": 5,
   "id": "0f2c74ba-ab81-4230-abf5-49ddb1ec00ab",
   "metadata": {},
   "outputs": [
    {
     "name": "stdout",
     "output_type": "stream",
     "text": [
      "Iteration 100: x = [0.18325791063799937, 0.5000000000000001]\n",
      "Iteration 200: x = [0.18318246209431743, 0.5000000000000001]\n",
      "Iteration 300: x = [0.18313024732927505, 0.5000000000000001]\n",
      "Iteration 100: x = [1.910735233669821e-6, 0.5000000000000001]\n",
      "solution occurs near x = [1.9054389041086638e-6, 0.5000000000000001]\n"
     ]
    }
   ],
   "source": [
    "f(x) = (x[1]+0.5)^2 + (x[2]-0.5)^2\n",
    "c(x) = x[1]\n",
    "B(x) = -log(c(x))\n",
    "P(x,μ) = f(x) + μ*B(x)\n",
    "∇P(x,μ) = [ 2*(x[1]+0.5)-μ/x[1], 2*(x[2]-0.5) ]  # need this for steepest descent\n",
    "\n",
    "x0 = [1,1]   # start at a feasible point\n",
    "(x,μ) = barrier(P, ∇P, x0, c; μ=1.0)\n",
    "println(\"solution occurs near x = \", x)"
   ]
  }
 ],
 "metadata": {
  "kernelspec": {
   "display_name": "Julia 1.11.1",
   "language": "julia",
   "name": "julia-1.11"
  },
  "language_info": {
   "file_extension": ".jl",
   "mimetype": "application/julia",
   "name": "julia",
   "version": "1.11.1"
  }
 },
 "nbformat": 4,
 "nbformat_minor": 5
}
