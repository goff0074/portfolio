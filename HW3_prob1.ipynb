{
 "cells": [
  {
   "cell_type": "code",
   "execution_count": 1,
   "id": "86114bb0-8c2c-4b08-b213-25ec8f0ef41e",
   "metadata": {},
   "outputs": [],
   "source": [
    "import numpy as np\n",
    "import pandas as pd\n",
    "from sklearn.preprocessing import StandardScaler\n",
    "from collections import Counter\n",
    "\n",
    "US = pd.read_csv(\"USArrests.csv\")"
   ]
  },
  {
   "cell_type": "code",
   "execution_count": 2,
   "id": "e06ac15c-9f6e-473d-b5a2-f24fa0cdfa0c",
   "metadata": {},
   "outputs": [],
   "source": [
    "scaler = StandardScaler()\n",
    "USm = US.iloc[:, 1:].values\n",
    "USsc = scaler.fit_transform(USm)"
   ]
  },
  {
   "cell_type": "code",
   "execution_count": 3,
   "id": "8c682b34-b4fd-4bda-b931-7ac031e265d8",
   "metadata": {},
   "outputs": [],
   "source": [
    "def distance(x, y):\n",
    "    return np.sum((x - y)**2)\n",
    "\n",
    "def centroid(X):\n",
    "    return np.mean(X, axis=0)"
   ]
  },
  {
   "cell_type": "code",
   "execution_count": 9,
   "id": "80d2e055-cbce-4550-977f-aab11f4a110e",
   "metadata": {},
   "outputs": [],
   "source": [
    "def kmeans1(X, k):\n",
    "    m, n = X.shape\n",
    "    if k > m:\n",
    "        raise ValueError(f\"Number of clusters {k} > number of observations {m}\")\n",
    "    \n",
    "    # Random initial assignment\n",
    "    clusters0 = np.random.randint(0, k, m)\n",
    "    clusters = np.zeros(m, dtype=int)\n",
    "    \n",
    "    iteration = 0\n",
    "    while True:\n",
    "        # Compute the cluster centroids\n",
    "        centroids = np.zeros((k, n))\n",
    "        for i in range(k):\n",
    "            centroids[i, :] = centroid(X[clusters0 == i, :])\n",
    "        \n",
    "        # Assign each observation to the nearest centroid\n",
    "        for i in range(m):\n",
    "            best = distance(X[i, :], centroids[0, :])\n",
    "            clusters[i] = 0\n",
    "            for j in range(1, k):\n",
    "                candidate = distance(X[i, :], centroids[j, :])\n",
    "                if candidate < best:\n",
    "                    best = candidate\n",
    "                    clusters[i] = j\n",
    "        \n",
    "        if np.array_equal(clusters, clusters0):\n",
    "            break\n",
    "        clusters0 = clusters.copy()\n",
    "        iteration += 1\n",
    "        if iteration % 1 == 0:\n",
    "            continue\n",
    "    \n",
    "    # Check if solution produced less than k clusters\n",
    "    if len(np.unique(clusters)) != k:\n",
    "        print(f\"Warning: Clustering solution contains less than {k-1} clusters.\")\n",
    "    \n",
    "    return clusters"
   ]
  },
  {
   "cell_type": "code",
   "execution_count": 5,
   "id": "8507e5d7-c527-4a95-bb17-ed80068bb95e",
   "metadata": {},
   "outputs": [],
   "source": [
    "def objective(X, k, cl):\n",
    "    total_distance = 0.0\n",
    "    for i in range(k):\n",
    "        cluster_points = X[cl == i, :]\n",
    "        c = centroid(cluster_points)\n",
    "        for point in cluster_points:\n",
    "            total_distance += distance(point, c)\n",
    "    return total_distance"
   ]
  },
  {
   "cell_type": "code",
   "execution_count": 6,
   "id": "433099e9-996a-4545-b9aa-60dde711eabf",
   "metadata": {},
   "outputs": [],
   "source": [
    "def kmeans(X, k, niter=50):\n",
    "    best_clusters = None\n",
    "    best_objective = np.inf\n",
    "    for i in range(niter):\n",
    "        clusters = kmeans1(X, k)\n",
    "        obj = objective(X, k, clusters)\n",
    "        if obj < best_objective:\n",
    "            best_objective = obj\n",
    "            best_clusters = clusters\n",
    "    return best_clusters"
   ]
  },
  {
   "cell_type": "code",
   "execution_count": 10,
   "id": "8e0f4e6b-6f3b-4b60-9bb8-17dd8eee9b4f",
   "metadata": {},
   "outputs": [
    {
     "name": "stdout",
     "output_type": "stream",
     "text": [
      "Cluster sizes: Counter({1: 16, 2: 13, 3: 13, 0: 8})\n",
      "Cluster 1:\n",
      "Murder       13.9375\n",
      "Assault     243.6250\n",
      "UrbanPop     53.7500\n",
      "Rape         21.4125\n",
      "dtype: float64\n",
      "Cluster 2:\n",
      "Murder        5.65625\n",
      "Assault     138.87500\n",
      "UrbanPop     73.87500\n",
      "Rape         18.78125\n",
      "dtype: float64\n",
      "Cluster 3:\n",
      "Murder       10.815385\n",
      "Assault     257.384615\n",
      "UrbanPop     76.000000\n",
      "Rape         33.192308\n",
      "dtype: float64\n",
      "Cluster 4:\n",
      "Murder       3.600000\n",
      "Assault     78.538462\n",
      "UrbanPop    52.076923\n",
      "Rape        12.176923\n",
      "dtype: float64\n"
     ]
    }
   ],
   "source": [
    "k = 4\n",
    "cl = kmeans(USsc, k)\n",
    "objective(USsc, k, cl)\n",
    "\n",
    "cldict = Counter(cl)\n",
    "print(\"Cluster sizes:\", cldict)\n",
    "for i in range(4):\n",
    "    cluster_points = US.iloc[cl == i, 1:]\n",
    "    print(f\"Cluster {i + 1}:\")\n",
    "    print(cluster_points.mean())"
   ]
  },
  {
   "cell_type": "code",
   "execution_count": null,
   "id": "48198e70-9b3f-4c9a-9974-917880dca4d9",
   "metadata": {},
   "outputs": [],
   "source": []
  }
 ],
 "metadata": {
  "kernelspec": {
   "display_name": "Python 3 (ipykernel)",
   "language": "python",
   "name": "python3"
  },
  "language_info": {
   "codemirror_mode": {
    "name": "ipython",
    "version": 3
   },
   "file_extension": ".py",
   "mimetype": "text/x-python",
   "name": "python",
   "nbconvert_exporter": "python",
   "pygments_lexer": "ipython3",
   "version": "3.11.7"
  }
 },
 "nbformat": 4,
 "nbformat_minor": 5
}
